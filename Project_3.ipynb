{
 "cells": [
  {
   "cell_type": "markdown",
   "id": "5255e851",
   "metadata": {},
   "source": [
    "Import the Pandas library to provide the data frame to work in the csv file as \n",
    "it will read the file as a dataframe to retrieve the records"
   ]
  },
  {
   "cell_type": "code",
   "execution_count": 1,
   "id": "47e5a559",
   "metadata": {},
   "outputs": [],
   "source": [
    "import pandas as pd\n",
    "import numpy as np"
   ]
  },
  {
   "cell_type": "markdown",
   "id": "40d30500",
   "metadata": {},
   "source": [
    "Reading the csv file"
   ]
  },
  {
   "cell_type": "code",
   "execution_count": 2,
   "id": "bbe3d79e",
   "metadata": {},
   "outputs": [],
   "source": [
    "df = pd.read_csv(\"sales.csv\")"
   ]
  },
  {
   "cell_type": "markdown",
   "id": "2c1715ce",
   "metadata": {},
   "source": [
    "Information about the dataframe, has got 12 entries and the column datatypes are mentioned"
   ]
  },
  {
   "cell_type": "code",
   "execution_count": 3,
   "id": "d18995c4",
   "metadata": {},
   "outputs": [
    {
     "name": "stdout",
     "output_type": "stream",
     "text": [
      "<class 'pandas.core.frame.DataFrame'>\n",
      "RangeIndex: 12 entries, 0 to 11\n",
      "Data columns (total 4 columns):\n",
      " #   Column       Non-Null Count  Dtype \n",
      "---  ------       --------------  ----- \n",
      " 0   year         12 non-null     int64 \n",
      " 1   month        12 non-null     object\n",
      " 2   sales        12 non-null     int64 \n",
      " 3   expenditure  12 non-null     int64 \n",
      "dtypes: int64(3), object(1)\n",
      "memory usage: 512.0+ bytes\n"
     ]
    }
   ],
   "source": [
    "df.info()"
   ]
  },
  {
   "cell_type": "markdown",
   "id": "bdfd959d",
   "metadata": {},
   "source": [
    "check the dataframe first 5 entries "
   ]
  },
  {
   "cell_type": "code",
   "execution_count": 4,
   "id": "64a4b0be",
   "metadata": {},
   "outputs": [
    {
     "data": {
      "text/html": [
       "<div>\n",
       "<style scoped>\n",
       "    .dataframe tbody tr th:only-of-type {\n",
       "        vertical-align: middle;\n",
       "    }\n",
       "\n",
       "    .dataframe tbody tr th {\n",
       "        vertical-align: top;\n",
       "    }\n",
       "\n",
       "    .dataframe thead th {\n",
       "        text-align: right;\n",
       "    }\n",
       "</style>\n",
       "<table border=\"1\" class=\"dataframe\">\n",
       "  <thead>\n",
       "    <tr style=\"text-align: right;\">\n",
       "      <th></th>\n",
       "      <th>year</th>\n",
       "      <th>month</th>\n",
       "      <th>sales</th>\n",
       "      <th>expenditure</th>\n",
       "    </tr>\n",
       "  </thead>\n",
       "  <tbody>\n",
       "    <tr>\n",
       "      <th>0</th>\n",
       "      <td>2018</td>\n",
       "      <td>jan</td>\n",
       "      <td>6226</td>\n",
       "      <td>3808</td>\n",
       "    </tr>\n",
       "    <tr>\n",
       "      <th>1</th>\n",
       "      <td>2018</td>\n",
       "      <td>feb</td>\n",
       "      <td>1521</td>\n",
       "      <td>3373</td>\n",
       "    </tr>\n",
       "    <tr>\n",
       "      <th>2</th>\n",
       "      <td>2018</td>\n",
       "      <td>mar</td>\n",
       "      <td>1842</td>\n",
       "      <td>3965</td>\n",
       "    </tr>\n",
       "    <tr>\n",
       "      <th>3</th>\n",
       "      <td>2018</td>\n",
       "      <td>apr</td>\n",
       "      <td>2051</td>\n",
       "      <td>1098</td>\n",
       "    </tr>\n",
       "    <tr>\n",
       "      <th>4</th>\n",
       "      <td>2018</td>\n",
       "      <td>may</td>\n",
       "      <td>1728</td>\n",
       "      <td>3046</td>\n",
       "    </tr>\n",
       "  </tbody>\n",
       "</table>\n",
       "</div>"
      ],
      "text/plain": [
       "   year month  sales  expenditure\n",
       "0  2018   jan   6226         3808\n",
       "1  2018   feb   1521         3373\n",
       "2  2018   mar   1842         3965\n",
       "3  2018   apr   2051         1098\n",
       "4  2018   may   1728         3046"
      ]
     },
     "execution_count": 4,
     "metadata": {},
     "output_type": "execute_result"
    }
   ],
   "source": [
    "df.head(5)"
   ]
  },
  {
   "cell_type": "code",
   "execution_count": null,
   "id": "a9531427",
   "metadata": {},
   "outputs": [],
   "source": [
    "Checks for how many unique years are mentioned here"
   ]
  },
  {
   "cell_type": "code",
   "execution_count": 5,
   "id": "795e82e4",
   "metadata": {},
   "outputs": [
    {
     "data": {
      "text/plain": [
       "array([2018])"
      ]
     },
     "execution_count": 5,
     "metadata": {},
     "output_type": "execute_result"
    }
   ],
   "source": [
    "df['year'].unique()"
   ]
  },
  {
   "cell_type": "markdown",
   "id": "f3137cd1",
   "metadata": {},
   "source": [
    "Finding the record when the max sales as taken place"
   ]
  },
  {
   "cell_type": "code",
   "execution_count": 6,
   "id": "107ec59e",
   "metadata": {},
   "outputs": [
    {
     "data": {
      "text/plain": [
       "7479"
      ]
     },
     "execution_count": 6,
     "metadata": {},
     "output_type": "execute_result"
    }
   ],
   "source": [
    "df['sales'].max()"
   ]
  },
  {
   "cell_type": "code",
   "execution_count": 11,
   "id": "9620d290",
   "metadata": {},
   "outputs": [
    {
     "data": {
      "text/plain": [
       "year           2018\n",
       "month           jul\n",
       "sales          7479\n",
       "expenditure    2084\n",
       "Name: 6, dtype: object"
      ]
     },
     "execution_count": 11,
     "metadata": {},
     "output_type": "execute_result"
    }
   ],
   "source": [
    "df.loc[df['sales'].idxmax()]"
   ]
  },
  {
   "cell_type": "markdown",
   "id": "aa7e89cc",
   "metadata": {},
   "source": [
    "Find the record for the macimum expenditure"
   ]
  },
  {
   "cell_type": "code",
   "execution_count": 12,
   "id": "8beb7728",
   "metadata": {},
   "outputs": [
    {
     "data": {
      "text/plain": [
       "year           2018\n",
       "month           mar\n",
       "sales          1842\n",
       "expenditure    3965\n",
       "Name: 2, dtype: object"
      ]
     },
     "execution_count": 12,
     "metadata": {},
     "output_type": "execute_result"
    }
   ],
   "source": [
    "df.loc[df['expenditure'].idxmax()]"
   ]
  },
  {
   "cell_type": "code",
   "execution_count": null,
   "id": "14ac930b",
   "metadata": {},
   "outputs": [],
   "source": []
  }
 ],
 "metadata": {
  "kernelspec": {
   "display_name": "Python 3 (ipykernel)",
   "language": "python",
   "name": "python3"
  },
  "language_info": {
   "codemirror_mode": {
    "name": "ipython",
    "version": 3
   },
   "file_extension": ".py",
   "mimetype": "text/x-python",
   "name": "python",
   "nbconvert_exporter": "python",
   "pygments_lexer": "ipython3",
   "version": "3.9.6"
  }
 },
 "nbformat": 4,
 "nbformat_minor": 5
}
