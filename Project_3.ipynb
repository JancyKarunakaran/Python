{
 "cells": [
  {
   "cell_type": "markdown",
   "id": "5255e851",
   "metadata": {},
   "source": [
    "Import the Pandas library to provide the data frame to work in the csv file as \n",
    "it will read the file as a dataframe to retrieve the records"
   ]
  },
  {
   "cell_type": "code",
   "execution_count": 1,
   "id": "47e5a559",
   "metadata": {},
   "outputs": [],
   "source": [
    "import pandas as pd\n",
    "import numpy as np"
   ]
  },
  {
   "cell_type": "markdown",
   "id": "40d30500",
   "metadata": {},
   "source": [
    "Reading the csv file"
   ]
  },
  {
   "cell_type": "code",
   "execution_count": 2,
   "id": "bbe3d79e",
   "metadata": {},
   "outputs": [],
   "source": [
    "df = pd.read_csv(\"sales.csv\")"
   ]
  },
  {
   "cell_type": "markdown",
   "id": "96871e14",
   "metadata": {},
   "source": [
    "Information about the data frame "
   ]
  },
  {
   "cell_type": "code",
   "execution_count": 3,
   "id": "d18995c4",
   "metadata": {},
   "outputs": [
    {
     "name": "stdout",
     "output_type": "stream",
     "text": [
      "<class 'pandas.core.frame.DataFrame'>\n",
      "RangeIndex: 12 entries, 0 to 11\n",
      "Data columns (total 4 columns):\n",
      " #   Column       Non-Null Count  Dtype \n",
      "---  ------       --------------  ----- \n",
      " 0   year         12 non-null     int64 \n",
      " 1   month        12 non-null     object\n",
      " 2   sales        12 non-null     int64 \n",
      " 3   expenditure  12 non-null     int64 \n",
      "dtypes: int64(3), object(1)\n",
      "memory usage: 512.0+ bytes\n"
     ]
    }
   ],
   "source": [
    "df.info()"
   ]
  },
  {
   "cell_type": "markdown",
   "id": "bdfd959d",
   "metadata": {},
   "source": [
    "check the dataframe first 5 entries "
   ]
  },
  {
   "cell_type": "code",
   "execution_count": 4,
   "id": "64a4b0be",
   "metadata": {},
   "outputs": [
    {
     "data": {
      "text/html": [
       "<div>\n",
       "<style scoped>\n",
       "    .dataframe tbody tr th:only-of-type {\n",
       "        vertical-align: middle;\n",
       "    }\n",
       "\n",
       "    .dataframe tbody tr th {\n",
       "        vertical-align: top;\n",
       "    }\n",
       "\n",
       "    .dataframe thead th {\n",
       "        text-align: right;\n",
       "    }\n",
       "</style>\n",
       "<table border=\"1\" class=\"dataframe\">\n",
       "  <thead>\n",
       "    <tr style=\"text-align: right;\">\n",
       "      <th></th>\n",
       "      <th>year</th>\n",
       "      <th>month</th>\n",
       "      <th>sales</th>\n",
       "      <th>expenditure</th>\n",
       "    </tr>\n",
       "  </thead>\n",
       "  <tbody>\n",
       "    <tr>\n",
       "      <th>0</th>\n",
       "      <td>2018</td>\n",
       "      <td>jan</td>\n",
       "      <td>6226</td>\n",
       "      <td>3808</td>\n",
       "    </tr>\n",
       "    <tr>\n",
       "      <th>1</th>\n",
       "      <td>2018</td>\n",
       "      <td>feb</td>\n",
       "      <td>1521</td>\n",
       "      <td>3373</td>\n",
       "    </tr>\n",
       "    <tr>\n",
       "      <th>2</th>\n",
       "      <td>2018</td>\n",
       "      <td>mar</td>\n",
       "      <td>1842</td>\n",
       "      <td>3965</td>\n",
       "    </tr>\n",
       "    <tr>\n",
       "      <th>3</th>\n",
       "      <td>2018</td>\n",
       "      <td>apr</td>\n",
       "      <td>2051</td>\n",
       "      <td>1098</td>\n",
       "    </tr>\n",
       "    <tr>\n",
       "      <th>4</th>\n",
       "      <td>2018</td>\n",
       "      <td>may</td>\n",
       "      <td>1728</td>\n",
       "      <td>3046</td>\n",
       "    </tr>\n",
       "  </tbody>\n",
       "</table>\n",
       "</div>"
      ],
      "text/plain": [
       "   year month  sales  expenditure\n",
       "0  2018   jan   6226         3808\n",
       "1  2018   feb   1521         3373\n",
       "2  2018   mar   1842         3965\n",
       "3  2018   apr   2051         1098\n",
       "4  2018   may   1728         3046"
      ]
     },
     "execution_count": 4,
     "metadata": {},
     "output_type": "execute_result"
    }
   ],
   "source": [
    "df.head(5)"
   ]
  },
  {
   "cell_type": "code",
   "execution_count": null,
   "id": "a9531427",
   "metadata": {},
   "outputs": [],
   "source": [
    "Checks for how many unique years are mentioned here"
   ]
  },
  {
   "cell_type": "code",
   "execution_count": 5,
   "id": "795e82e4",
   "metadata": {},
   "outputs": [
    {
     "data": {
      "text/plain": [
       "array([2018])"
      ]
     },
     "execution_count": 5,
     "metadata": {},
     "output_type": "execute_result"
    }
   ],
   "source": [
    "df['year'].unique()"
   ]
  },
  {
   "cell_type": "markdown",
   "id": "f3137cd1",
   "metadata": {},
   "source": [
    "Finding the record when the max sales as taken place"
   ]
  },
  {
   "cell_type": "code",
   "execution_count": 6,
   "id": "107ec59e",
   "metadata": {},
   "outputs": [
    {
     "data": {
      "text/plain": [
       "7479"
      ]
     },
     "execution_count": 6,
     "metadata": {},
     "output_type": "execute_result"
    }
   ],
   "source": [
    "df['sales'].max()"
   ]
  },
  {
   "cell_type": "code",
   "execution_count": 11,
   "id": "9620d290",
   "metadata": {},
   "outputs": [
    {
     "data": {
      "text/plain": [
       "year           2018\n",
       "month           jul\n",
       "sales          7479\n",
       "expenditure    2084\n",
       "Name: 6, dtype: object"
      ]
     },
     "execution_count": 11,
     "metadata": {},
     "output_type": "execute_result"
    }
   ],
   "source": [
    "df.loc[df['sales'].idxmax()]"
   ]
  },
  {
   "cell_type": "markdown",
   "id": "aa7e89cc",
   "metadata": {},
   "source": [
    "Find the record for the macimum expenditure"
   ]
  },
  {
   "cell_type": "code",
   "execution_count": 12,
   "id": "8beb7728",
   "metadata": {},
   "outputs": [
    {
     "data": {
      "text/plain": [
       "year           2018\n",
       "month           mar\n",
       "sales          1842\n",
       "expenditure    3965\n",
       "Name: 2, dtype: object"
      ]
     },
     "execution_count": 12,
     "metadata": {},
     "output_type": "execute_result"
    }
   ],
   "source": [
    "df.loc[df['expenditure'].idxmax()]"
   ]
  },
  {
   "cell_type": "markdown",
   "id": "6f22d1d2",
   "metadata": {},
   "source": [
    "Converting the sales column into a list"
   ]
  },
  {
   "cell_type": "code",
   "execution_count": 3,
   "id": "0d95be26",
   "metadata": {},
   "outputs": [],
   "source": [
    "sale_list = df['sales'].tolist()"
   ]
  },
  {
   "cell_type": "code",
   "execution_count": 4,
   "id": "8fd53b71",
   "metadata": {},
   "outputs": [
    {
     "name": "stdout",
     "output_type": "stream",
     "text": [
      "[6226, 1521, 1842, 2051, 1728, 2138, 7479, 4434, 3615, 5472, 7224, 1812]\n"
     ]
    }
   ],
   "source": [
    "print(sale_list)"
   ]
  },
  {
   "cell_type": "markdown",
   "id": "66f375f6",
   "metadata": {},
   "source": [
    "Output the total sales across all months"
   ]
  },
  {
   "cell_type": "code",
   "execution_count": 5,
   "id": "6b8f0ef4",
   "metadata": {},
   "outputs": [],
   "source": [
    "total_sales = df['sales'].sum()"
   ]
  },
  {
   "cell_type": "code",
   "execution_count": 6,
   "id": "30629286",
   "metadata": {},
   "outputs": [
    {
     "data": {
      "text/plain": [
       "45542"
      ]
     },
     "execution_count": 6,
     "metadata": {},
     "output_type": "execute_result"
    }
   ],
   "source": [
    "total_sales"
   ]
  },
  {
   "cell_type": "markdown",
   "id": "2d893938",
   "metadata": {},
   "source": [
    "Monthly changes as a percentage - Creating a new column for percentages"
   ]
  },
  {
   "cell_type": "code",
   "execution_count": 15,
   "id": "c5d8ccdc",
   "metadata": {},
   "outputs": [],
   "source": [
    "df['sales_pct']= df['sales'].pct_change().round(2)*100"
   ]
  },
  {
   "cell_type": "code",
   "execution_count": 16,
   "id": "295e72d7",
   "metadata": {},
   "outputs": [
    {
     "name": "stdout",
     "output_type": "stream",
     "text": [
      "    year month  sales  expenditure  sales_pct\n",
      "0   2018   jan   6226         3808        NaN\n",
      "1   2018   feb   1521         3373      -76.0\n",
      "2   2018   mar   1842         3965       21.0\n",
      "3   2018   apr   2051         1098       11.0\n",
      "4   2018   may   1728         3046      -16.0\n",
      "5   2018   jun   2138         2258       24.0\n",
      "6   2018   jul   7479         2084      250.0\n",
      "7   2018   aug   4434         2799      -41.0\n",
      "8   2018   sep   3615         1649      -18.0\n",
      "9   2018   oct   5472         1116       51.0\n",
      "10  2018   nov   7224         1431       32.0\n",
      "11  2018   dec   1812         3532      -75.0\n"
     ]
    }
   ],
   "source": [
    "print(df)"
   ]
  },
  {
   "cell_type": "markdown",
   "id": "243737fc",
   "metadata": {},
   "source": [
    "The average sales and expenditure"
   ]
  },
  {
   "cell_type": "code",
   "execution_count": 17,
   "id": "de5c9b51",
   "metadata": {},
   "outputs": [
    {
     "data": {
      "text/html": [
       "<div>\n",
       "<style scoped>\n",
       "    .dataframe tbody tr th:only-of-type {\n",
       "        vertical-align: middle;\n",
       "    }\n",
       "\n",
       "    .dataframe tbody tr th {\n",
       "        vertical-align: top;\n",
       "    }\n",
       "\n",
       "    .dataframe thead th {\n",
       "        text-align: right;\n",
       "    }\n",
       "</style>\n",
       "<table border=\"1\" class=\"dataframe\">\n",
       "  <thead>\n",
       "    <tr style=\"text-align: right;\">\n",
       "      <th></th>\n",
       "      <th>year</th>\n",
       "      <th>sales</th>\n",
       "      <th>expenditure</th>\n",
       "      <th>sales_pct</th>\n",
       "    </tr>\n",
       "  </thead>\n",
       "  <tbody>\n",
       "    <tr>\n",
       "      <th>count</th>\n",
       "      <td>12.0</td>\n",
       "      <td>12.000000</td>\n",
       "      <td>12.000000</td>\n",
       "      <td>11.000000</td>\n",
       "    </tr>\n",
       "    <tr>\n",
       "      <th>mean</th>\n",
       "      <td>2018.0</td>\n",
       "      <td>3795.166667</td>\n",
       "      <td>2513.250000</td>\n",
       "      <td>14.818182</td>\n",
       "    </tr>\n",
       "    <tr>\n",
       "      <th>std</th>\n",
       "      <td>0.0</td>\n",
       "      <td>2285.725579</td>\n",
       "      <td>1046.608994</td>\n",
       "      <td>88.605664</td>\n",
       "    </tr>\n",
       "    <tr>\n",
       "      <th>min</th>\n",
       "      <td>2018.0</td>\n",
       "      <td>1521.000000</td>\n",
       "      <td>1098.000000</td>\n",
       "      <td>-76.000000</td>\n",
       "    </tr>\n",
       "    <tr>\n",
       "      <th>25%</th>\n",
       "      <td>2018.0</td>\n",
       "      <td>1834.500000</td>\n",
       "      <td>1594.500000</td>\n",
       "      <td>-29.500000</td>\n",
       "    </tr>\n",
       "    <tr>\n",
       "      <th>50%</th>\n",
       "      <td>2018.0</td>\n",
       "      <td>2876.500000</td>\n",
       "      <td>2528.500000</td>\n",
       "      <td>11.000000</td>\n",
       "    </tr>\n",
       "    <tr>\n",
       "      <th>75%</th>\n",
       "      <td>2018.0</td>\n",
       "      <td>5660.500000</td>\n",
       "      <td>3412.750000</td>\n",
       "      <td>28.000000</td>\n",
       "    </tr>\n",
       "    <tr>\n",
       "      <th>max</th>\n",
       "      <td>2018.0</td>\n",
       "      <td>7479.000000</td>\n",
       "      <td>3965.000000</td>\n",
       "      <td>250.000000</td>\n",
       "    </tr>\n",
       "  </tbody>\n",
       "</table>\n",
       "</div>"
      ],
      "text/plain": [
       "         year        sales  expenditure   sales_pct\n",
       "count    12.0    12.000000    12.000000   11.000000\n",
       "mean   2018.0  3795.166667  2513.250000   14.818182\n",
       "std       0.0  2285.725579  1046.608994   88.605664\n",
       "min    2018.0  1521.000000  1098.000000  -76.000000\n",
       "25%    2018.0  1834.500000  1594.500000  -29.500000\n",
       "50%    2018.0  2876.500000  2528.500000   11.000000\n",
       "75%    2018.0  5660.500000  3412.750000   28.000000\n",
       "max    2018.0  7479.000000  3965.000000  250.000000"
      ]
     },
     "execution_count": 17,
     "metadata": {},
     "output_type": "execute_result"
    }
   ],
   "source": [
    "df.describe()"
   ]
  },
  {
   "cell_type": "markdown",
   "id": "02d0484c",
   "metadata": {},
   "source": [
    "calculating the average sales and expenditure"
   ]
  },
  {
   "cell_type": "code",
   "execution_count": 21,
   "id": "fcc8ed7c",
   "metadata": {},
   "outputs": [],
   "source": [
    "avg_sales = df['sales'].mean()"
   ]
  },
  {
   "cell_type": "code",
   "execution_count": 22,
   "id": "bbe93ccc",
   "metadata": {},
   "outputs": [
    {
     "data": {
      "text/plain": [
       "3795.1666666666665"
      ]
     },
     "execution_count": 22,
     "metadata": {},
     "output_type": "execute_result"
    }
   ],
   "source": [
    "avg_sales"
   ]
  },
  {
   "cell_type": "markdown",
   "id": "e1b6eae0",
   "metadata": {},
   "source": [
    "avg_expenditure is 2513.25"
   ]
  },
  {
   "cell_type": "markdown",
   "id": "fc279bdf",
   "metadata": {},
   "source": [
    "Months with the highest and lowest sales"
   ]
  },
  {
   "cell_type": "code",
   "execution_count": 23,
   "id": "427b5fd1",
   "metadata": {},
   "outputs": [],
   "source": [
    "max_sales_month = df.loc[df['sales'].idxmax()]"
   ]
  },
  {
   "cell_type": "code",
   "execution_count": 24,
   "id": "9e2d379c",
   "metadata": {},
   "outputs": [
    {
     "data": {
      "text/plain": [
       "year            2018\n",
       "month            jul\n",
       "sales           7479\n",
       "expenditure     2084\n",
       "sales_pct      250.0\n",
       "Name: 6, dtype: object"
      ]
     },
     "execution_count": 24,
     "metadata": {},
     "output_type": "execute_result"
    }
   ],
   "source": [
    "max_sales_month"
   ]
  },
  {
   "cell_type": "code",
   "execution_count": 26,
   "id": "bfd0c04b",
   "metadata": {},
   "outputs": [],
   "source": [
    "min_sales_month = df.loc[df['sales'].idxmin()]"
   ]
  },
  {
   "cell_type": "code",
   "execution_count": 27,
   "id": "c27124a6",
   "metadata": {},
   "outputs": [
    {
     "data": {
      "text/plain": [
       "year           2018\n",
       "month           feb\n",
       "sales          1521\n",
       "expenditure    3373\n",
       "sales_pct     -76.0\n",
       "Name: 1, dtype: object"
      ]
     },
     "execution_count": 27,
     "metadata": {},
     "output_type": "execute_result"
    }
   ],
   "source": [
    "min_sales_month"
   ]
  },
  {
   "cell_type": "code",
   "execution_count": null,
   "id": "a847241e",
   "metadata": {},
   "outputs": [],
   "source": []
  }
 ],
 "metadata": {
  "kernelspec": {
   "display_name": "Python 3 (ipykernel)",
   "language": "python",
   "name": "python3"
  },
  "language_info": {
   "codemirror_mode": {
    "name": "ipython",
    "version": 3
   },
   "file_extension": ".py",
   "mimetype": "text/x-python",
   "name": "python",
   "nbconvert_exporter": "python",
   "pygments_lexer": "ipython3",
   "version": "3.9.6"
  }
 },
 "nbformat": 4,
 "nbformat_minor": 5
}
